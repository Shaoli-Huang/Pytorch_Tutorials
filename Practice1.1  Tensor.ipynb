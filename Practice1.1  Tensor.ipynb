{
 "cells": [
  {
   "cell_type": "code",
   "execution_count": 2,
   "metadata": {},
   "outputs": [],
   "source": [
    "# import python packages \n",
    "import numpy as np\n",
    "import torch\n"
   ]
  },
  {
   "cell_type": "code",
   "execution_count": 3,
   "metadata": {},
   "outputs": [
    {
     "name": "stdout",
     "output_type": "stream",
     "text": [
      "<class 'numpy.ndarray'>\n",
      "<class 'torch.Tensor'>\n",
      "[1 2 3 4] tensor([1, 2, 3, 4])\n"
     ]
    }
   ],
   "source": [
    "#1.1 Construct a tensor (https://pytorch.org/docs/stable/torch.html#tensor-creation-ops)\n",
    "\n",
    "#1.1.1 construct a tensor from a numpy array\n",
    "np_array = np.array([1,2,3,4])\n",
    "print(type(np_array))\n",
    "tensor_array = torch.tensor(np_array)\n",
    "print(type(tensor_array))\n",
    "print(np_array,tensor_array)\n"
   ]
  },
  {
   "cell_type": "code",
   "execution_count": 4,
   "metadata": {
    "scrolled": true
   },
   "outputs": [
    {
     "name": "stdout",
     "output_type": "stream",
     "text": [
      "tensor([[0.2201, 0.0705, 0.8851],\n",
      "        [0.3819, 0.1598, 0.8348]], dtype=torch.float64, requires_grad=True) torch.DoubleTensor\n"
     ]
    }
   ],
   "source": [
    "#1.1.2 construct a random tensor of shape [2,3]\n",
    "\n",
    "rand_tensor = torch.rand([2,3],dtype=torch.float64,device=torch.device('cpu:0'),requires_grad=True)\n",
    "print(rand_tensor,rand_tensor.type())\n"
   ]
  },
  {
   "cell_type": "code",
   "execution_count": 5,
   "metadata": {},
   "outputs": [
    {
     "name": "stdout",
     "output_type": "stream",
     "text": [
      "torch.Size([2, 3])\n"
     ]
    }
   ],
   "source": [
    "#1.1.3 Built-in functions in the tensor class (https://pytorch.org/docs/stable/tensors.html#torch.Tensor)\n",
    "\n",
    "x = torch.rand([2,3]) # a tensor\n",
    "\n",
    "#1.1.4 check the size of x\n",
    "print(x.size())\n"
   ]
  },
  {
   "cell_type": "code",
   "execution_count": 6,
   "metadata": {},
   "outputs": [
    {
     "name": "stdout",
     "output_type": "stream",
     "text": [
      "[[0.13248688 0.093409   0.20983249]\n",
      " [0.6609338  0.61761826 0.31949747]] <class 'numpy.ndarray'>\n"
     ]
    }
   ],
   "source": [
    "\n",
    "#1.1.5 convert a tensor to a numpy array\n",
    "x_array = x.numpy()\n",
    "print(x_array,type(x_array))\n"
   ]
  },
  {
   "cell_type": "code",
   "execution_count": 7,
   "metadata": {},
   "outputs": [
    {
     "name": "stdout",
     "output_type": "stream",
     "text": [
      "tensor(0.6609)\n"
     ]
    }
   ],
   "source": [
    "\n",
    "#1.1.6 get the maximum value of x\n",
    "print(x.max())\n",
    "\n"
   ]
  },
  {
   "cell_type": "code",
   "execution_count": 24,
   "metadata": {},
   "outputs": [],
   "source": [
    "# In-course practise\n",
    "\n",
    "#1.1.7 create a 2-D tensor x with ones on the diagonal and zeros elsewhere (shape:[4,5],dype=double) \n"
   ]
  },
  {
   "cell_type": "code",
   "execution_count": 25,
   "metadata": {},
   "outputs": [],
   "source": [
    "#1.1.8 get the 0-th diagonal of x, and calculate the sum and convert its dtype to int\n"
   ]
  },
  {
   "cell_type": "code",
   "execution_count": null,
   "metadata": {},
   "outputs": [],
   "source": []
  }
 ],
 "metadata": {
  "kernelspec": {
   "display_name": "Python [conda env:pytorch_env] *",
   "language": "python",
   "name": "conda-env-pytorch_env-py"
  },
  "language_info": {
   "codemirror_mode": {
    "name": "ipython",
    "version": 3
   },
   "file_extension": ".py",
   "mimetype": "text/x-python",
   "name": "python",
   "nbconvert_exporter": "python",
   "pygments_lexer": "ipython3",
   "version": "3.7.3"
  }
 },
 "nbformat": 4,
 "nbformat_minor": 2
}
