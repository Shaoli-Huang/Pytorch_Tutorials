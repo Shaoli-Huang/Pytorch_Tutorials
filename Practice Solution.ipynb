{
 "cells": [
  {
   "cell_type": "code",
   "execution_count": 4,
   "metadata": {},
   "outputs": [],
   "source": [
    "import torch\n",
    "import numpy as np\n",
    "import torch.nn.functional as F"
   ]
  },
  {
   "cell_type": "code",
   "execution_count": 5,
   "metadata": {},
   "outputs": [
    {
     "name": "stdout",
     "output_type": "stream",
     "text": [
      "tensor([[1., 0., 0., 0., 0.],\n",
      "        [0., 1., 0., 0., 0.],\n",
      "        [0., 0., 1., 0., 0.],\n",
      "        [0., 0., 0., 1., 0.]], dtype=torch.float64) torch.DoubleTensor\n"
     ]
    }
   ],
   "source": [
    "#In-course practise\n",
    "\n",
    "#1.1.7 create a 2-D tensor x with ones on the diagonal and zeros elsewhere (shape:[4,5],dype=double) \n",
    "x = torch.eye(4,5,dtype=torch.float64)\n",
    "print(x,x.type())\n",
    "\n"
   ]
  },
  {
   "cell_type": "code",
   "execution_count": 6,
   "metadata": {},
   "outputs": [
    {
     "name": "stdout",
     "output_type": "stream",
     "text": [
      "tensor([1., 1., 1., 1.], dtype=torch.float64)\n",
      "tensor(4., dtype=torch.float64)\n"
     ]
    }
   ],
   "source": [
    "#1.1.8 get the 0-th diagonal of x, and calculate the sum and convert its dtype to int\n",
    "x = torch.diag(x,0)\n",
    "print(x)\n",
    "x = x.sum()\n",
    "print(x)\n"
   ]
  },
  {
   "cell_type": "code",
   "execution_count": 14,
   "metadata": {},
   "outputs": [
    {
     "name": "stdout",
     "output_type": "stream",
     "text": [
      "input : torch.Size([2, 3, 5, 5])\n",
      "filter: torch.Size([4, 3, 3, 3])\n",
      "conv_out: torch.Size([2, 4, 3, 3])\n",
      "conv_out: torch.Size([2, 36])\n",
      "linear_w: torch.Size([5, 36])\n",
      "linear_out: torch.Size([2, 5])\n"
     ]
    }
   ],
   "source": [
    "\n",
    "\n",
    "#1.2.6 Apply a 2D convolution over an input followed by a linear transformation\n",
    "\n",
    "# create a random input tensor with shape [2,3,5,5]\n",
    "x = torch.randn(2,3,5,5)\n",
    "print('input :',x.shape)\n",
    "# create a random filter with shape [4,3,3,3]\n",
    "conv_w = torch.randn(4,3,3,3)\n",
    "print('filter:',conv_w.shape)\n",
    "# perform 2d convolution\n",
    "conv_out = F.conv2d(x,conv_w)\n",
    "print('conv_out:',conv_out.shape)\n",
    "\n",
    "# create a random weight matrix so that the output shape is [3,5]\n",
    "conv_out = conv_out.view(2,-1)\n",
    "print('conv_out:',conv_out.shape)\n",
    "linear_w = torch.randn(5,conv_out.shape[1])\n",
    "print('linear_w:',linear_w.shape)\n",
    "linear_out = F.linear(conv_out,linear_w,bias=None)\n",
    "print('linear_out:',linear_out.shape)\n"
   ]
  },
  {
   "cell_type": "code",
   "execution_count": 15,
   "metadata": {},
   "outputs": [],
   "source": [
    "x = torch.randn(2,2,2,2,2)"
   ]
  },
  {
   "cell_type": "code",
   "execution_count": 16,
   "metadata": {},
   "outputs": [
    {
     "name": "stdout",
     "output_type": "stream",
     "text": [
      "torch.Size([2, 2, 2, 2, 2])\n"
     ]
    }
   ],
   "source": [
    "print(x.size())"
   ]
  },
  {
   "cell_type": "code",
   "execution_count": 17,
   "metadata": {},
   "outputs": [
    {
     "data": {
      "text/plain": [
       "tensor([-0.6140,  1.5316, -0.7093, -1.3144, -0.1790,  0.4069, -0.5434, -0.0996,\n",
       "        -0.5497,  0.3227, -0.2206, -0.5074,  0.6792,  0.8326,  1.0295, -0.4901,\n",
       "        -0.5959, -0.0237, -0.0720,  1.7825, -1.2991,  0.4773,  0.2830, -1.5192,\n",
       "        -0.3015,  0.3725, -0.0751, -1.3654, -2.4126, -0.5090,  1.5371, -0.7187])"
      ]
     },
     "execution_count": 17,
     "metadata": {},
     "output_type": "execute_result"
    }
   ],
   "source": [
    "x.view(-1)"
   ]
  },
  {
   "cell_type": "code",
   "execution_count": 18,
   "metadata": {},
   "outputs": [
    {
     "data": {
      "text/plain": [
       "tensor([[-0.6140,  1.5316, -0.7093, -1.3144, -0.1790,  0.4069, -0.5434, -0.0996,\n",
       "         -0.5497,  0.3227, -0.2206, -0.5074,  0.6792,  0.8326,  1.0295, -0.4901,\n",
       "         -0.5959, -0.0237, -0.0720,  1.7825, -1.2991,  0.4773,  0.2830, -1.5192,\n",
       "         -0.3015,  0.3725, -0.0751, -1.3654, -2.4126, -0.5090,  1.5371, -0.7187]])"
      ]
     },
     "execution_count": 18,
     "metadata": {},
     "output_type": "execute_result"
    }
   ],
   "source": [
    "x.view(1,-1)"
   ]
  },
  {
   "cell_type": "code",
   "execution_count": 20,
   "metadata": {},
   "outputs": [
    {
     "name": "stdout",
     "output_type": "stream",
     "text": [
      "torch.Size([1, 32])\n"
     ]
    }
   ],
   "source": [
    "print(x.view(1,-1).size())"
   ]
  },
  {
   "cell_type": "code",
   "execution_count": null,
   "metadata": {},
   "outputs": [],
   "source": []
  }
 ],
 "metadata": {
  "kernelspec": {
   "display_name": "Python [conda env:pytorch_env] *",
   "language": "python",
   "name": "conda-env-pytorch_env-py"
  },
  "language_info": {
   "codemirror_mode": {
    "name": "ipython",
    "version": 3
   },
   "file_extension": ".py",
   "mimetype": "text/x-python",
   "name": "python",
   "nbconvert_exporter": "python",
   "pygments_lexer": "ipython3",
   "version": "3.7.3"
  }
 },
 "nbformat": 4,
 "nbformat_minor": 2
}
